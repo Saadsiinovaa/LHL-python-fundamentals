{
 "cells": [
  {
   "cell_type": "markdown",
   "metadata": {
    "ExecuteTime": {
     "end_time": "2020-01-30T08:49:56.471556Z",
     "start_time": "2020-01-30T08:49:56.467072Z"
    }
   },
   "source": [
    "**TASK:** import numpy"
   ]
  },
  {
   "cell_type": "code",
   "execution_count": 2,
   "metadata": {},
   "outputs": [],
   "source": [
    "import numpy as np"
   ]
  },
  {
   "cell_type": "markdown",
   "metadata": {
    "ExecuteTime": {
     "end_time": "2020-01-30T08:49:56.803505Z",
     "start_time": "2020-01-30T08:49:56.790390Z"
    }
   },
   "source": [
    "**TASK:** define vector 'x' with three coordinates"
   ]
  },
  {
   "cell_type": "code",
   "execution_count": 27,
   "metadata": {},
   "outputs": [
    {
     "data": {
      "text/plain": [
       "array([1, 2, 3])"
      ]
     },
     "execution_count": 27,
     "metadata": {},
     "output_type": "execute_result"
    }
   ],
   "source": [
    "x=np.array([1,2,3])\n",
    "x"
   ]
  },
  {
   "cell_type": "markdown",
   "metadata": {
    "ExecuteTime": {
     "end_time": "2020-01-30T08:49:57.155981Z",
     "start_time": "2020-01-30T08:49:57.142948Z"
    }
   },
   "source": [
    "**TASK:** define (2 x 2) matrix 'A' \n"
   ]
  },
  {
   "cell_type": "code",
   "execution_count": 28,
   "metadata": {},
   "outputs": [
    {
     "data": {
      "text/plain": [
       "array([[1., 0.],\n",
       "       [0., 1.]])"
      ]
     },
     "execution_count": 28,
     "metadata": {},
     "output_type": "execute_result"
    }
   ],
   "source": [
    "A=np.eye(2)\n",
    "A"
   ]
  },
  {
   "cell_type": "markdown",
   "metadata": {
    "ExecuteTime": {
     "end_time": "2020-01-30T08:49:57.628250Z",
     "start_time": "2020-01-30T08:49:57.618326Z"
    }
   },
   "source": [
    "**TASK:** define (2 x 2) matrix 'B'"
   ]
  },
  {
   "cell_type": "code",
   "execution_count": 29,
   "metadata": {},
   "outputs": [
    {
     "data": {
      "text/plain": [
       "array([[1., 0.],\n",
       "       [0., 1.]])"
      ]
     },
     "execution_count": 29,
     "metadata": {},
     "output_type": "execute_result"
    }
   ],
   "source": [
    "B=np.eye(2)\n",
    "B"
   ]
  },
  {
   "cell_type": "markdown",
   "metadata": {
    "ExecuteTime": {
     "end_time": "2020-01-30T08:49:57.644266Z",
     "start_time": "2020-01-30T08:49:57.633733Z"
    }
   },
   "source": [
    "**TASK:** check the type of 'x'"
   ]
  },
  {
   "cell_type": "code",
   "execution_count": 30,
   "metadata": {},
   "outputs": [
    {
     "data": {
      "text/plain": [
       "numpy.ndarray"
      ]
     },
     "execution_count": 30,
     "metadata": {},
     "output_type": "execute_result"
    }
   ],
   "source": [
    "type(x)"
   ]
  },
  {
   "cell_type": "markdown",
   "metadata": {
    "ExecuteTime": {
     "end_time": "2020-01-30T08:49:58.239708Z",
     "start_time": "2020-01-30T08:49:58.231962Z"
    }
   },
   "source": [
    "**TASK:** check the type of 'A'"
   ]
  },
  {
   "cell_type": "code",
   "execution_count": 31,
   "metadata": {},
   "outputs": [
    {
     "data": {
      "text/plain": [
       "numpy.ndarray"
      ]
     },
     "execution_count": 31,
     "metadata": {},
     "output_type": "execute_result"
    }
   ],
   "source": [
    "type(A)"
   ]
  },
  {
   "cell_type": "markdown",
   "metadata": {
    "ExecuteTime": {
     "end_time": "2020-01-30T08:49:58.780503Z",
     "start_time": "2020-01-30T08:49:58.771843Z"
    }
   },
   "source": [
    "**TASK:**  check the shape of 'x'\n"
   ]
  },
  {
   "cell_type": "code",
   "execution_count": 32,
   "metadata": {},
   "outputs": [
    {
     "data": {
      "text/plain": [
       "(3,)"
      ]
     },
     "execution_count": 32,
     "metadata": {},
     "output_type": "execute_result"
    }
   ],
   "source": [
    "x.shape"
   ]
  },
  {
   "cell_type": "markdown",
   "metadata": {
    "ExecuteTime": {
     "end_time": "2020-01-30T08:49:59.209544Z",
     "start_time": "2020-01-30T08:49:59.197955Z"
    }
   },
   "source": [
    "**TASK:** check the type of 'A'"
   ]
  },
  {
   "cell_type": "code",
   "execution_count": 33,
   "metadata": {},
   "outputs": [
    {
     "data": {
      "text/plain": [
       "(2, 2)"
      ]
     },
     "execution_count": 33,
     "metadata": {},
     "output_type": "execute_result"
    }
   ],
   "source": [
    "A.shape"
   ]
  },
  {
   "cell_type": "markdown",
   "metadata": {},
   "source": [
    "**TASK:** "
   ]
  },
  {
   "cell_type": "code",
   "execution_count": 34,
   "metadata": {
    "ExecuteTime": {
     "end_time": "2020-01-30T08:49:59.477768Z",
     "start_time": "2020-01-30T08:49:59.472858Z"
    }
   },
   "outputs": [
    {
     "data": {
      "text/plain": [
       "\"\\nDefine function 'have_same_shape' which checks if two arrays have same shape.\\n\\nPARAMS:\\n    array_1 (numpy.ndarray) - first array\\n    array_2 (numpy.ndarray) - second array\\nRETURN:\\n    True - if arrays have same shape\\n    False - if arrays do not have same shape\\n\\nAlso print 'Arrays must have same shape!' when returning False\\n\""
      ]
     },
     "execution_count": 34,
     "metadata": {},
     "output_type": "execute_result"
    }
   ],
   "source": [
    "\"\"\"\n",
    "Define function 'have_same_shape' which checks if two arrays have same shape.\n",
    "\n",
    "PARAMS:\n",
    "    array_1 (numpy.ndarray) - first array\n",
    "    array_2 (numpy.ndarray) - second array\n",
    "RETURN:\n",
    "    True - if arrays have same shape\n",
    "    False - if arrays do not have same shape\n",
    "\n",
    "Also print 'Arrays must have same shape!' when returning False\n",
    "\"\"\""
   ]
  },
  {
   "cell_type": "code",
   "execution_count": 35,
   "metadata": {},
   "outputs": [],
   "source": [
    "def have_same_shape (array_1,array_2):\n",
    "    return(array_1.shape==array_2.shape)\n",
    "        "
   ]
  },
  {
   "cell_type": "markdown",
   "metadata": {
    "ExecuteTime": {
     "end_time": "2020-01-30T08:49:59.773624Z",
     "start_time": "2020-01-30T08:49:59.764633Z"
    }
   },
   "source": [
    "**TASK:** call the function 'have_same_shape' with matrix 'A' and vector 'x' as inputs"
   ]
  },
  {
   "cell_type": "code",
   "execution_count": 36,
   "metadata": {},
   "outputs": [
    {
     "data": {
      "text/plain": [
       "False"
      ]
     },
     "execution_count": 36,
     "metadata": {},
     "output_type": "execute_result"
    }
   ],
   "source": [
    "have_same_shape(x,A)"
   ]
  },
  {
   "cell_type": "markdown",
   "metadata": {
    "ExecuteTime": {
     "end_time": "2020-01-30T08:50:00.108597Z",
     "start_time": "2020-01-30T08:50:00.099924Z"
    }
   },
   "source": [
    "**TASK:**  call the function 'have_same_shape' with matrix 'A' and matrix 'B' as inputs"
   ]
  },
  {
   "cell_type": "code",
   "execution_count": 37,
   "metadata": {},
   "outputs": [
    {
     "data": {
      "text/plain": [
       "True"
      ]
     },
     "execution_count": 37,
     "metadata": {},
     "output_type": "execute_result"
    }
   ],
   "source": [
    "have_same_shape(B,A)"
   ]
  },
  {
   "cell_type": "markdown",
   "metadata": {},
   "source": [
    "**TASK:** "
   ]
  },
  {
   "cell_type": "code",
   "execution_count": null,
   "metadata": {
    "ExecuteTime": {
     "end_time": "2020-01-30T08:50:00.453186Z",
     "start_time": "2020-01-30T08:50:00.445491Z"
    }
   },
   "outputs": [],
   "source": [
    "\"\"\"\n",
    "Define function 'matrix_addition' which perform matrix addition value by value.\n",
    "\n",
    "PARAMS:\n",
    "    A (numpy.ndarray) - first array\n",
    "    B (numpy.ndarray) - second array\n",
    "RETURN:\n",
    "    C (numpy.ndarray) - new A+B array\n",
    "\n",
    "In this task do not consider broadcasting.\n",
    "Do not forget to check arrays shapes (you can use 'have_same_shape' function defined before)\n",
    "\n",
    "\"\"\"\n"
   ]
  },
  {
   "cell_type": "code",
   "execution_count": 41,
   "metadata": {},
   "outputs": [],
   "source": [
    "def matrix_addition(array_1,array_2):\n",
    "    return(array_1+array_2)"
   ]
  },
  {
   "cell_type": "markdown",
   "metadata": {
    "ExecuteTime": {
     "end_time": "2020-01-30T08:50:00.926629Z",
     "start_time": "2020-01-30T08:50:00.914790Z"
    }
   },
   "source": [
    "**TASK:** call the function 'matrix_addition' with matrix 'A' and matrix 'B' as inputs"
   ]
  },
  {
   "cell_type": "code",
   "execution_count": 44,
   "metadata": {},
   "outputs": [
    {
     "data": {
      "text/plain": [
       "array([[2., 0.],\n",
       "       [0., 2.]])"
      ]
     },
     "execution_count": 44,
     "metadata": {},
     "output_type": "execute_result"
    }
   ],
   "source": [
    "matrix_addition(A,B)"
   ]
  },
  {
   "cell_type": "markdown",
   "metadata": {},
   "source": [
    "**TASK:** "
   ]
  },
  {
   "cell_type": "code",
   "execution_count": 1,
   "metadata": {
    "ExecuteTime": {
     "end_time": "2020-01-30T08:50:01.238605Z",
     "start_time": "2020-01-30T08:50:01.231201Z"
    },
    "collapsed": true,
    "jupyter": {
     "outputs_hidden": true
    }
   },
   "outputs": [
    {
     "data": {
      "text/plain": [
       "\"\\nDefine 'multiple_matrix_adition' function that takes list of arrays as the input and perform array addition\\n\\nPARAMS:\\n   lst_of_arr (list) - list of numpy.ndarrays\\nRETURN:\\n    NEW_ARRAY (numpy.ndarray) - new array\\n\\nUse 'matrix_addition' function defined before.\\n\""
      ]
     },
     "execution_count": 1,
     "metadata": {},
     "output_type": "execute_result"
    }
   ],
   "source": [
    "\"\"\"\n",
    "Define 'multiple_matrix_adition' function that takes list of arrays as the input and perform array addition\n",
    "\n",
    "PARAMS:\n",
    "   lst_of_arr (list) - list of numpy.ndarrays\n",
    "RETURN:\n",
    "    NEW_ARRAY (numpy.ndarray) - new array\n",
    "\n",
    "Use 'matrix_addition' function defined before.\n",
    "\"\"\""
   ]
  },
  {
   "cell_type": "code",
   "execution_count": 45,
   "metadata": {},
   "outputs": [],
   "source": [
    "def multiple_matrix_adition (list):\n",
    "    return(np.array(list))"
   ]
  },
  {
   "cell_type": "markdown",
   "metadata": {
    "ExecuteTime": {
     "end_time": "2020-01-30T08:50:01.515057Z",
     "start_time": "2020-01-30T08:50:01.506002Z"
    }
   },
   "source": [
    "**TASK:** call the function 'multiple_matrix_addition' with matrix [A,A,B,B,B] as input\n"
   ]
  },
  {
   "cell_type": "code",
   "execution_count": 48,
   "metadata": {},
   "outputs": [
    {
     "data": {
      "text/plain": [
       "array([[[1., 0.],\n",
       "        [0., 1.]],\n",
       "\n",
       "       [[1., 0.],\n",
       "        [0., 1.]],\n",
       "\n",
       "       [[1., 0.],\n",
       "        [0., 1.]],\n",
       "\n",
       "       [[1., 0.],\n",
       "        [0., 1.]],\n",
       "\n",
       "       [[1., 0.],\n",
       "        [0., 1.]]])"
      ]
     },
     "execution_count": 48,
     "metadata": {},
     "output_type": "execute_result"
    }
   ],
   "source": [
    "C=multiple_matrix_adition([A,A,B,B,B])\n",
    "C.shape\n",
    "C"
   ]
  },
  {
   "cell_type": "markdown",
   "metadata": {},
   "source": [
    "**TASK:** "
   ]
  },
  {
   "cell_type": "code",
   "execution_count": null,
   "metadata": {
    "ExecuteTime": {
     "end_time": "2020-01-30T08:50:01.934418Z",
     "start_time": "2020-01-30T08:50:01.921444Z"
    }
   },
   "outputs": [],
   "source": [
    "\"\"\"\n",
    "Define function 'can_multiply' that checks if two arrays (matrices) can be multiplied\n",
    "\n",
    "PARAMS:\n",
    "   array_a (numpy.ndarray) - first array\n",
    "   array_b (numpy.ndarray) - second array\n",
    "RETURN:\n",
    "    True - if arrays can be multiplied, also print the shape of the new array\n",
    "    False - if arrays can not be multiplied, also print 'Matrices can not be multiplied.'\n",
    "    \n",
    "\"\"\""
   ]
  },
  {
   "cell_type": "code",
   "execution_count": 49,
   "metadata": {},
   "outputs": [],
   "source": [
    "def can_multiply(array_a,array_b):\n",
    "    return(array_a.shape[-1]==array_b.shape[0])"
   ]
  },
  {
   "cell_type": "markdown",
   "metadata": {
    "ExecuteTime": {
     "end_time": "2020-01-30T08:50:02.291084Z",
     "start_time": "2020-01-30T08:50:02.280835Z"
    }
   },
   "source": [
    "**TASK:** call the function 'can_multiply' with matrix 'A' and 'B' as inputs"
   ]
  },
  {
   "cell_type": "code",
   "execution_count": 50,
   "metadata": {},
   "outputs": [
    {
     "data": {
      "text/plain": [
       "True"
      ]
     },
     "execution_count": 50,
     "metadata": {},
     "output_type": "execute_result"
    }
   ],
   "source": [
    "can_multiply(A,B)"
   ]
  },
  {
   "cell_type": "markdown",
   "metadata": {
    "ExecuteTime": {
     "end_time": "2020-01-30T08:50:02.590166Z",
     "start_time": "2020-01-30T08:50:02.583812Z"
    }
   },
   "source": [
    "**TASK:**  define matrix (3 x 2) matrix C"
   ]
  },
  {
   "cell_type": "code",
   "execution_count": 58,
   "metadata": {},
   "outputs": [
    {
     "data": {
      "text/plain": [
       "(3, 2)"
      ]
     },
     "execution_count": 58,
     "metadata": {},
     "output_type": "execute_result"
    }
   ],
   "source": [
    "C=np.array([[1,2],[4,5],[7,8]])\n",
    "C.shape"
   ]
  },
  {
   "cell_type": "markdown",
   "metadata": {
    "ExecuteTime": {
     "end_time": "2020-01-30T08:50:02.853507Z",
     "start_time": "2020-01-30T08:50:02.841481Z"
    }
   },
   "source": [
    "**TASK:**  call the function 'can_multiply' with matrix 'A' and 'C' as inputs"
   ]
  },
  {
   "cell_type": "code",
   "execution_count": 59,
   "metadata": {},
   "outputs": [
    {
     "data": {
      "text/plain": [
       "False"
      ]
     },
     "execution_count": 59,
     "metadata": {},
     "output_type": "execute_result"
    }
   ],
   "source": [
    "can_multiply(A,C)"
   ]
  },
  {
   "cell_type": "markdown",
   "metadata": {
    "ExecuteTime": {
     "end_time": "2020-01-30T08:50:03.194987Z",
     "start_time": "2020-01-30T08:50:03.188313Z"
    }
   },
   "source": [
    "**TASK:**  call the function 'can_multiply' with matrix 'C' and 'A' as inputs (now C,A not A,C). Do you know why is the result different?"
   ]
  },
  {
   "cell_type": "code",
   "execution_count": 60,
   "metadata": {},
   "outputs": [
    {
     "data": {
      "text/plain": [
       "True"
      ]
     },
     "execution_count": 60,
     "metadata": {},
     "output_type": "execute_result"
    }
   ],
   "source": [
    "can_multiply(C,A)"
   ]
  },
  {
   "cell_type": "code",
   "execution_count": null,
   "metadata": {},
   "outputs": [],
   "source": [
    "yes. the number of columns of the first matrix should be equal to the number of the rows in the seccond matrix. so being the 1st or 2nd one in matrix multiply matters."
   ]
  },
  {
   "cell_type": "markdown",
   "metadata": {},
   "source": [
    "**TASK:** "
   ]
  },
  {
   "cell_type": "code",
   "execution_count": null,
   "metadata": {
    "ExecuteTime": {
     "end_time": "2020-01-30T08:50:03.460761Z",
     "start_time": "2020-01-30T08:50:03.453042Z"
    }
   },
   "outputs": [],
   "source": [
    "\"\"\"\n",
    "Define function 'matrix_multiplication' that multiply two numpy.ndarrays\n",
    "\n",
    "PARAMS:\n",
    "   array_a (numpy.ndarray) - first array\n",
    "   array_b (numpy.ndarray) - second array\n",
    "RETURN:\n",
    "    NEW_ARRAY (numpy.ndarray) - new A * B array\n",
    "    \n",
    "Do not forget to check if two matrices can be multiplied.\n",
    "\n",
    "\"\"\""
   ]
  },
  {
   "cell_type": "code",
   "execution_count": 79,
   "metadata": {},
   "outputs": [],
   "source": [
    "def matrix_multiplication(array_a,array_b):\n",
    "    M=np.zeros((array_a.shape[0],array_b.shape[1]))\n",
    "    M\n",
    "    if(can_multiply(array_a,array_b)):\n",
    "        for i in range(array_a.shape[0]):\n",
    "            for j in range(array_b.shape[1]):\n",
    "                for k in range(array_a.shape[1]):\n",
    "                    M[i][j]+=array_a[i][k]*array_b[k][j]\n",
    "        return(M)\n",
    "    else:\n",
    "        return('cannot multiply!')"
   ]
  },
  {
   "cell_type": "markdown",
   "metadata": {
    "ExecuteTime": {
     "end_time": "2020-01-30T08:50:03.899011Z",
     "start_time": "2020-01-30T08:50:03.886562Z"
    }
   },
   "source": [
    "**TASK:**  call the function 'matrix_multiplication' with matrix 'C' and 'B' \n"
   ]
  },
  {
   "cell_type": "code",
   "execution_count": 80,
   "metadata": {},
   "outputs": [
    {
     "data": {
      "text/plain": [
       "array([[1., 2.],\n",
       "       [4., 5.],\n",
       "       [7., 8.]])"
      ]
     },
     "execution_count": 80,
     "metadata": {},
     "output_type": "execute_result"
    }
   ],
   "source": [
    "matrix_multiplication(C,B)"
   ]
  },
  {
   "cell_type": "markdown",
   "metadata": {
    "ExecuteTime": {
     "end_time": "2020-01-30T08:50:04.265728Z",
     "start_time": "2020-01-30T08:50:04.258942Z"
    }
   },
   "source": [
    "**TASK:** call the function 'matrix_multiplication' with matrix 'A' and 'C' "
   ]
  },
  {
   "cell_type": "code",
   "execution_count": 81,
   "metadata": {},
   "outputs": [
    {
     "data": {
      "text/plain": [
       "'cannot multiply!'"
      ]
     },
     "execution_count": 81,
     "metadata": {},
     "output_type": "execute_result"
    }
   ],
   "source": [
    "matrix_multiplication(A,C)"
   ]
  },
  {
   "cell_type": "code",
   "execution_count": null,
   "metadata": {},
   "outputs": [],
   "source": []
  },
  {
   "cell_type": "code",
   "execution_count": null,
   "metadata": {},
   "outputs": [],
   "source": []
  },
  {
   "cell_type": "code",
   "execution_count": null,
   "metadata": {},
   "outputs": [],
   "source": []
  }
 ],
 "metadata": {
  "kernelspec": {
   "display_name": "Python 3 (ipykernel)",
   "language": "python",
   "name": "python3"
  },
  "language_info": {
   "codemirror_mode": {
    "name": "ipython",
    "version": 3
   },
   "file_extension": ".py",
   "mimetype": "text/x-python",
   "name": "python",
   "nbconvert_exporter": "python",
   "pygments_lexer": "ipython3",
   "version": "3.8.8"
  },
  "toc": {
   "base_numbering": 1,
   "nav_menu": {},
   "number_sections": true,
   "sideBar": true,
   "skip_h1_title": false,
   "title_cell": "Table of Contents",
   "title_sidebar": "Contents",
   "toc_cell": false,
   "toc_position": {},
   "toc_section_display": true,
   "toc_window_display": true
  },
  "varInspector": {
   "cols": {
    "lenName": 16,
    "lenType": 16,
    "lenVar": 40
   },
   "kernels_config": {
    "python": {
     "delete_cmd_postfix": "",
     "delete_cmd_prefix": "del ",
     "library": "var_list.py",
     "varRefreshCmd": "print(var_dic_list())"
    },
    "r": {
     "delete_cmd_postfix": ") ",
     "delete_cmd_prefix": "rm(",
     "library": "var_list.r",
     "varRefreshCmd": "cat(var_dic_list()) "
    }
   },
   "types_to_exclude": [
    "module",
    "function",
    "builtin_function_or_method",
    "instance",
    "_Feature"
   ],
   "window_display": false
  }
 },
 "nbformat": 4,
 "nbformat_minor": 4
}
